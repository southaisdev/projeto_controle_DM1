{
  "nbformat": 4,
  "nbformat_minor": 0,
  "metadata": {
    "colab": {
      "provenance": [],
      "authorship_tag": "ABX9TyM7Bbep1BoR+sa6IuNJCzk2",
      "include_colab_link": true
    },
    "kernelspec": {
      "name": "python3",
      "display_name": "Python 3"
    },
    "language_info": {
      "name": "python"
    }
  },
  "cells": [
    {
      "cell_type": "markdown",
      "metadata": {
        "id": "view-in-github",
        "colab_type": "text"
      },
      "source": [
        "<a href=\"https://colab.research.google.com/github/southaisdev/projeto_controle_DM1/blob/main/Projeto_Controle_DM1.ipynb\" target=\"_parent\"><img src=\"https://colab.research.google.com/assets/colab-badge.svg\" alt=\"Open In Colab\"/></a>"
      ]
    },
    {
      "cell_type": "code",
      "execution_count": 1,
      "metadata": {
        "id": "M0bxGJbjeZJV"
      },
      "outputs": [],
      "source": [
        "%pip -q install google-genai"
      ]
    },
    {
      "cell_type": "code",
      "source": [
        "import os\n",
        "from google.colab import userdata\n",
        "\n",
        "os.environ[\"GOOGLE_API_KEY\"] = userdata.get('GOOGLE_API_KEY')"
      ],
      "metadata": {
        "id": "foPyzYlBeuEO"
      },
      "execution_count": 2,
      "outputs": []
    },
    {
      "cell_type": "code",
      "source": [
        "from google import genai\n",
        "\n",
        "client = genai.Client()\n",
        "\n",
        "MODEL_ID = \"gemini-2.0-flash\""
      ],
      "metadata": {
        "id": "nU5seZj4e05-"
      },
      "execution_count": 3,
      "outputs": []
    },
    {
      "cell_type": "code",
      "source": [
        "!pip install -q google-adk"
      ],
      "metadata": {
        "colab": {
          "base_uri": "https://localhost:8080/"
        },
        "id": "l0tk_ISXe3JG",
        "outputId": "99092bb4-7951-4c1f-9126-b606825a8da7"
      },
      "execution_count": 4,
      "outputs": [
        {
          "output_type": "stream",
          "name": "stdout",
          "text": [
            "\u001b[?25l   \u001b[90m━━━━━━━━━━━━━━━━━━━━━━━━━━━━━━━━━━━━━━━━\u001b[0m \u001b[32m0.0/1.2 MB\u001b[0m \u001b[31m?\u001b[0m eta \u001b[36m-:--:--\u001b[0m\r\u001b[2K   \u001b[91m━━━━━━━━━━━━━━━\u001b[0m\u001b[91m╸\u001b[0m\u001b[90m━━━━━━━━━━━━━━━━━━━━━━━━\u001b[0m \u001b[32m0.5/1.2 MB\u001b[0m \u001b[31m14.2 MB/s\u001b[0m eta \u001b[36m0:00:01\u001b[0m\r\u001b[2K   \u001b[90m━━━━━━━━━━━━━━━━━━━━━━━━━━━━━━━━━━━━━━━━\u001b[0m \u001b[32m1.2/1.2 MB\u001b[0m \u001b[31m17.9 MB/s\u001b[0m eta \u001b[36m0:00:00\u001b[0m\n",
            "\u001b[?25h\u001b[?25l   \u001b[90m━━━━━━━━━━━━━━━━━━━━━━━━━━━━━━━━━━━━━━━━\u001b[0m \u001b[32m0.0/232.1 kB\u001b[0m \u001b[31m?\u001b[0m eta \u001b[36m-:--:--\u001b[0m\r\u001b[2K   \u001b[90m━━━━━━━━━━━━━━━━━━━━━━━━━━━━━━━━━━━━━━━━\u001b[0m \u001b[32m232.1/232.1 kB\u001b[0m \u001b[31m13.9 MB/s\u001b[0m eta \u001b[36m0:00:00\u001b[0m\n",
            "\u001b[?25h\u001b[?25l   \u001b[90m━━━━━━━━━━━━━━━━━━━━━━━━━━━━━━━━━━━━━━━━\u001b[0m \u001b[32m0.0/95.2 kB\u001b[0m \u001b[31m?\u001b[0m eta \u001b[36m-:--:--\u001b[0m\r\u001b[2K   \u001b[90m━━━━━━━━━━━━━━━━━━━━━━━━━━━━━━━━━━━━━━━━\u001b[0m \u001b[32m95.2/95.2 kB\u001b[0m \u001b[31m6.4 MB/s\u001b[0m eta \u001b[36m0:00:00\u001b[0m\n",
            "\u001b[?25h\u001b[?25l   \u001b[90m━━━━━━━━━━━━━━━━━━━━━━━━━━━━━━━━━━━━━━━━\u001b[0m \u001b[32m0.0/217.1 kB\u001b[0m \u001b[31m?\u001b[0m eta \u001b[36m-:--:--\u001b[0m\r\u001b[2K   \u001b[90m━━━━━━━━━━━━━━━━━━━━━━━━━━━━━━━━━━━━━━━━\u001b[0m \u001b[32m217.1/217.1 kB\u001b[0m \u001b[31m13.7 MB/s\u001b[0m eta \u001b[36m0:00:00\u001b[0m\n",
            "\u001b[2K   \u001b[90m━━━━━━━━━━━━━━━━━━━━━━━━━━━━━━━━━━━━━━━━\u001b[0m \u001b[32m334.1/334.1 kB\u001b[0m \u001b[31m20.8 MB/s\u001b[0m eta \u001b[36m0:00:00\u001b[0m\n",
            "\u001b[2K   \u001b[90m━━━━━━━━━━━━━━━━━━━━━━━━━━━━━━━━━━━━━━━━\u001b[0m \u001b[32m125.1/125.1 kB\u001b[0m \u001b[31m6.5 MB/s\u001b[0m eta \u001b[36m0:00:00\u001b[0m\n",
            "\u001b[2K   \u001b[90m━━━━━━━━━━━━━━━━━━━━━━━━━━━━━━━━━━━━━━━━\u001b[0m \u001b[32m65.8/65.8 kB\u001b[0m \u001b[31m4.0 MB/s\u001b[0m eta \u001b[36m0:00:00\u001b[0m\n",
            "\u001b[2K   \u001b[90m━━━━━━━━━━━━━━━━━━━━━━━━━━━━━━━━━━━━━━━━\u001b[0m \u001b[32m119.0/119.0 kB\u001b[0m \u001b[31m8.1 MB/s\u001b[0m eta \u001b[36m0:00:00\u001b[0m\n",
            "\u001b[2K   \u001b[90m━━━━━━━━━━━━━━━━━━━━━━━━━━━━━━━━━━━━━━━━\u001b[0m \u001b[32m194.9/194.9 kB\u001b[0m \u001b[31m12.2 MB/s\u001b[0m eta \u001b[36m0:00:00\u001b[0m\n",
            "\u001b[2K   \u001b[90m━━━━━━━━━━━━━━━━━━━━━━━━━━━━━━━━━━━━━━━━\u001b[0m \u001b[32m62.5/62.5 kB\u001b[0m \u001b[31m3.8 MB/s\u001b[0m eta \u001b[36m0:00:00\u001b[0m\n",
            "\u001b[2K   \u001b[90m━━━━━━━━━━━━━━━━━━━━━━━━━━━━━━━━━━━━━━━━\u001b[0m \u001b[32m103.3/103.3 kB\u001b[0m \u001b[31m7.7 MB/s\u001b[0m eta \u001b[36m0:00:00\u001b[0m\n",
            "\u001b[2K   \u001b[90m━━━━━━━━━━━━━━━━━━━━━━━━━━━━━━━━━━━━━━━━\u001b[0m \u001b[32m44.4/44.4 kB\u001b[0m \u001b[31m2.4 MB/s\u001b[0m eta \u001b[36m0:00:00\u001b[0m\n",
            "\u001b[2K   \u001b[90m━━━━━━━━━━━━━━━━━━━━━━━━━━━━━━━━━━━━━━━━\u001b[0m \u001b[32m72.0/72.0 kB\u001b[0m \u001b[31m4.2 MB/s\u001b[0m eta \u001b[36m0:00:00\u001b[0m\n",
            "\u001b[?25h"
          ]
        }
      ]
    },
    {
      "cell_type": "code",
      "source": [
        "from google.adk.agents import Agent\n",
        "from google.adk.runners import Runner\n",
        "from google.adk.sessions import InMemorySessionService\n",
        "from google.genai import types\n",
        "from datetime import date\n",
        "from google.adk.tools import google_search\n",
        "import textwrap\n",
        "from IPython.display import display, Markdown, HTML\n",
        "import warnings\n",
        "warnings.filterwarnings(\"ignore\")"
      ],
      "metadata": {
        "id": "QjvBnPEafQue"
      },
      "execution_count": 17,
      "outputs": []
    },
    {
      "cell_type": "code",
      "source": [
        "def call_agent(agent: Agent, message_text: str) -> str:\n",
        "    session_service = InMemorySessionService()\n",
        "    session = session_service.create_session(app_name=agent.name, user_id=\"user1\", session_id=\"session1\")\n",
        "    runner = Runner(agent=agent, app_name=agent.name, session_service=session_service)\n",
        "    content = types.Content(role=\"user\", parts=[types.Part(text=message_text)])\n",
        "\n",
        "    final_response = \"\"\n",
        "    for event in runner.run(user_id=\"user1\", session_id=\"session1\", new_message=content):\n",
        "        if event.is_final_response():\n",
        "            for part in event.content.parts:\n",
        "                if part.text is not None:\n",
        "                    final_response += part.text\n",
        "                    final_response += \"\\n\"\n",
        "    return final_response"
      ],
      "metadata": {
        "id": "50Eoe7wJfsT-"
      },
      "execution_count": 18,
      "outputs": []
    },
    {
      "cell_type": "code",
      "source": [
        "def to_markdown(text):\n",
        "    text = text.replace('•', '  *')\n",
        "    return Markdown(textwrap.indent(text, '> ', predicate=lambda _: True))"
      ],
      "metadata": {
        "id": "eFsT-DbHfyXV"
      },
      "execution_count": 19,
      "outputs": []
    },
    {
      "cell_type": "code",
      "source": [
        "#####################################################\n",
        "# --- Agente 1: Monitoramento e Análise de Dados --- #\n",
        "#####################################################\n",
        "def agente_monitoramento_dm1(dados_dia):\n",
        "    monitorador = Agent(\n",
        "        name=\"agente_monitoramento_dm1\",\n",
        "        model=\"gemini-2.0-flash\",\n",
        "        description=\"Agente que analisa dados de controle de DM1 e gera um resumo.\",\n",
        "        instruction=f\"\"\"\n",
        "        Você é um assistente de monitoramento de dados de DM1. Sua tarefa é analisar os dados fornecidos para um período\n",
        "        e gerar um resumo em linguagem natural, destacando a média, min, max, hipo/hiper, e padrões simples. Você pode usar a\n",
        "        ferramenta de busca do Google (google_search) para mostrar de forma sucinta algumas informações relevantes se necessário.\n",
        "        **NUNCA** forneça conselhos médicos, diagnósticos ou recomendações de tratamento.\n",
        "        Use a data de hoje ({date.today().strftime(\"%d/%m/%Y\")}) como referência.\n",
        "        Formato dos dados de entrada esperado: Data/Hora, Glicemia (mg/dL), Refeição (Descrição e Carbos aprox), Insulina (Tipo e Unidades),\n",
        "        Atividade (Descrição e Duração)\n",
        "        \"\"\",\n",
        "        tools=[google_search]\n",
        "        )\n",
        "    entrada_agente = f\"Analise os seguintes dados:\\n\\n{dados_dia}\"\n",
        "    resumo_analise = call_agent(monitorador, entrada_agente)\n",
        "    return resumo_analise\n"
      ],
      "metadata": {
        "id": "8eY3LTHJf1Yd"
      },
      "execution_count": 20,
      "outputs": []
    },
    {
      "cell_type": "code",
      "source": [
        "###############################################\n",
        "# --- Agente 2: Conselheiro Nutricional --- #\n",
        "###############################################\n",
        "def agente_nutricional_dm1(refeicao_planejada, glicemia_atual_contexto=None):\n",
        "    conselheiro = Agent(\n",
        "        name=\"agente_nutricional_dm1\",\n",
        "        model=\"gemini-2.0-flash\",\n",
        "        description=\"Agente que oferece conselhos nutricionais gerais e informações sobre alimentos para pessoas com DM1.\",\n",
        "        instruction=\"\"\"\n",
        "        Você é um conselheiro nutricional amigável e educativo para pessoas com DM1.\n",
        "        Sua função é fornecer informações sobre como diferentes tipos de alimentos podem afetar a glicemia e sugerir opções saudáveis (Geral).\n",
        "        Pode fornecer estimativas *aproximadas* de carboidratos (sempre ressalte que são estimativas).\n",
        "        Enfatize a importância de um plano alimentar individualizado e da consulta a um nutricionista ou médico.\n",
        "        **NUNCA** diga o que *deve* comer ou relacione a refeição a uma dose de insulina específica.\n",
        "        Considere a glicemia atual fornecida (se houver) para contextualizar a resposta.\n",
        "        Você pode usar a ferramenta de busca do Google (google_search) para mostrar de forma sucinta algumas informações relevantes se necessário.\n",
        "        \"\"\",\n",
        "        tools=[google_search]\n",
        "    )\n",
        "\n",
        "    entrada_agente = f\"Refeição ou alimento a ser considerado: {refeicao_planejada}\"\n",
        "    if glicemia_atual_contexto is not None:\n",
        "         entrada_agente += f\"\\nGlicemia atual para contexto: {glicemia_atual_contexto} mg/dL\"\n",
        "\n",
        "    conselho_nutricional = call_agent(conselheiro, entrada_agente)\n",
        "    return conselho_nutricional\n"
      ],
      "metadata": {
        "id": "0pfQDe5Wh2L2"
      },
      "execution_count": 21,
      "outputs": []
    },
    {
      "cell_type": "code",
      "source": [
        "#####################################################\n",
        "# --- Agente 3: Suporte à Dosagem de Insulina --- #\n",
        "#####################################################\n",
        "def agente_insulina_dm1(glicemia_atual, carbos_refeicao, insulina_ativa=None, atividade_recente=None):\n",
        "    suporte_dosagem = Agent(\n",
        "        name=\"agente_insulina_dm1\",\n",
        "        model=\"gemini-2.0-flash\",\n",
        "        description=\"Agente que explica os fatores a serem considerados ao decidir a dose de insulina para DM1 (EDUCACIONAL).\",\n",
        "        instruction=\"\"\"\n",
        "        ATENÇÃO: Você é um assistente EDUCATIVO sobre os Fatores que influenciam a dosagem de insulina para DM1.\n",
        "        SUA FUNÇÃO É EXPLICAR ESSES FATORES, **NUNCA CALCULAR OU RECOMENDAR UMA DOSE ESPECÍFICA DE INSULINA.**\n",
        "        Explique como a glicemia atual, carboidratos, insulina ativa e atividade física *podem* influenciar a necessidade de insulina rápida.\n",
        "        Sua tarefa é listar e explicar a relevância de cada fator.\n",
        "        Sempre termine reforçando a importância de seguir as orientações do médico/equipe de saúde e que esta informação é apenas educativa.\n",
        "        \"\"\",\n",
        "        tools=[]\n",
        "    )\n",
        "    entrada_agente = f\"Explique os fatores a considerar para a insulina rápida:\\nGlicemia atual: {glicemia_atual} mg/dL\\nCarboidratos planejados para a refeição: {carbos_refeicao} g\"\n",
        "    if insulina_ativa and insulina_ativa.lower() != 'nenhuma':\n",
        "        entrada_agente += f\"\\nInsulina ativa ou última dose: {insulina_ativa}\"\n",
        "    if atividade_recente and atividade_recente.lower() != 'nenhuma':\n",
        "        entrada_agente += f\"\\nAtividade física recente/planejada: {atividade_recente}\"\n",
        "\n",
        "    suporte_informativo = call_agent(suporte_dosagem, entrada_agente)\n",
        "    return suporte_informativo"
      ],
      "metadata": {
        "id": "AQpt7Atui6Zf"
      },
      "execution_count": 22,
      "outputs": []
    },
    {
      "cell_type": "code",
      "source": [
        "if __name__ == \"__main__\":\n",
        "    print(\"🔬 Iniciando o Projeto Simplificado de Suporte a DM1 com Agentes 🔬\")\n",
        "    print(\"--- Por favor, insira os dados do seu registro ---\")\n",
        "\n",
        "    horario_input = input(\"⌚ Horário do registro (HH:MM): \")\n",
        "    glicemia_input_str = input(\"🩸 Valor da glicemia (apenas o número em mg/dL): \")\n",
        "    alimentacao_input = input(\"🍔 Alimentação (descrição simples, ex: 'Almoço com frango e salada'): \")\n",
        "    carbos_input_str = input(\"🍞 Carboidratos da refeição (apenas o número em gramas, se souber, ou 0): \")\n",
        "    insulina_input = input(\"💉 Insulina aplicada (tipo e unidades, ex: 'Rápida 8U', 'Lenta 15U', ou 'Nenhuma'): \")\n",
        "    atividade_input = input(\"🏃 Atividade física (descrição simples, ex: 'Caminhada 30min', ou 'Nenhuma'): \")\n",
        "\n",
        "    try:\n",
        "        glicemia_input = int(glicemia_input_str)\n",
        "    except ValueError:\n",
        "        print(\"⚠️ Valor da glicemia inválido. Usando 0 para demonstração.\")\n",
        "        glicemia_input = 0\n",
        "\n",
        "    try:\n",
        "        carbos_input = int(carbos_input_str)\n",
        "    except ValueError:\n",
        "        print(\"⚠️ Valor dos carboidratos inválido. Usando 0 para demonstração.\")\n",
        "        carbos_input = 0\n",
        "\n",
        "\n",
        "    print(\"\\n--- Dados coletados. Processando com os agentes... ---\")\n",
        "\n",
        "    dados_para_monitoramento = f\"{horario_input}, {glicemia_input} mg/dL, {alimentacao_input} - {carbos_input}g Carbo, {insulina_input}, {atividade_input}\"\n",
        "\n",
        "\n",
        "    print(\"\\n--- Resultado do Agente de Monitoramento (Baseado nesta entrada única) ---\")\n",
        "    resumo_gerado = agente_monitoramento_dm1(dados_para_monitoramento)\n",
        "    display(to_markdown(f\"**Resumo do Registro:**\\n{resumo_gerado}\"))\n",
        "    print(\"--------------------------------------------------\")\n",
        "\n",
        "    print(\"\\n--- Resultado do Agente Conselheiro Nutricional ---\")\n",
        "    conselho_gerado = agente_nutricional_dm1(\n",
        "        refeicao_planejada=alimentacao_input,\n",
        "        glicemia_atual_contexto=glicemia_input\n",
        "    )\n",
        "    display(to_markdown(f\"**Conselho Nutricional:**\\n{conselho_gerado}\"))\n",
        "    print(\"--------------------------------------------------\")\n",
        "\n",
        "    print(\"\\n--- Resultado do Agente de Suporte à Dosagem (EDUCACIONAL) ---\")\n",
        "    suporte_gerado = agente_insulina_dm1(\n",
        "        glicemia_atual=glicemia_input,\n",
        "        carbos_refeicao=carbos_input,\n",
        "        insulina_ativa=insulina_input,\n",
        "        atividade_recente=atividade_input\n",
        "    )\n",
        "    display(to_markdown(f\"**Suporte Informativo sobre Dosagem:**\\n{suporte_gerado}\"))\n",
        "    print(\"--------------------------------------------------\")\n",
        "\n",
        "    print(\"\\n✅ Processamento com Agentes Concluído.\")\n",
        "    print(\"--------------------------------------------------\")"
      ],
      "metadata": {
        "colab": {
          "base_uri": "https://localhost:8080/",
          "height": 1000
        },
        "id": "uNGqALaskMDu",
        "outputId": "fe52dd79-e580-4bd5-9aac-79c7030a2519"
      },
      "execution_count": 23,
      "outputs": [
        {
          "output_type": "stream",
          "name": "stdout",
          "text": [
            "🔬 Iniciando o Projeto Simplificado de Suporte a DM1 com Agentes 🔬\n",
            "--- Por favor, insira os dados do seu registro ---\n",
            "⌚ Horário do registro (HH:MM): 09:00\n",
            "🩸 Valor da glicemia (apenas o número em mg/dL): 110\n",
            "🍔 Alimentação (descrição simples, ex: 'Almoço com frango e salada'): Café da manhã com pão frances e café\n",
            "🍞 Carboidratos da refeição (apenas o número em gramas, se souber, ou 0): 300\n",
            "💉 Insulina aplicada (tipo e unidades, ex: 'Rápida 8U', 'Lenta 15U', ou 'Nenhuma'): Rápida 10u\n",
            "🏃 Atividade física (descrição simples, ex: 'Caminhada 30min', ou 'Nenhuma'): nenhuma\n",
            "\n",
            "--- Dados coletados. Processando com os agentes... ---\n",
            "\n",
            "--- Resultado do Agente de Monitoramento (Baseado nesta entrada única) ---\n"
          ]
        },
        {
          "output_type": "display_data",
          "data": {
            "text/plain": [
              "<IPython.core.display.Markdown object>"
            ],
            "text/markdown": "> **Resumo do Registro:**\n> Ok, aqui está uma análise dos dados que você forneceu para o dia 17 de maio de 2025:\n> \n> Às 09:00, a glicemia foi de 110 mg/dL após a administração de 10 unidades de insulina rápida para cobrir um café da manhã com aproximadamente 300g de carboidratos. A glicemia estava dentro da faixa normal neste momento.\n> \n"
          },
          "metadata": {}
        },
        {
          "output_type": "stream",
          "name": "stdout",
          "text": [
            "--------------------------------------------------\n",
            "\n",
            "--- Resultado do Agente Conselheiro Nutricional ---\n"
          ]
        },
        {
          "output_type": "display_data",
          "data": {
            "text/plain": [
              "<IPython.core.display.Markdown object>"
            ],
            "text/markdown": "> **Conselho Nutricional:**\n> Olá! Um café da manhã com pão francês e café é uma opção comum, mas vamos conversar sobre como esses alimentos podem afetar sua glicemia e algumas alternativas saudáveis.\n> \n> **Pão Francês:**\n> \n> *   **Carboidratos:** O pão francês é rico em carboidratos, que se transformam em glicose no sangue. A quantidade de carboidratos em um pão francês pode variar, mas geralmente fica em torno de 50-60 gramas.\n> *   **Impacto na Glicemia:** Por ser um carboidrato simples, o pão francês pode elevar a glicemia rapidamente.\n> *   **Dicas:** Para minimizar o impacto, você pode optar por pão integral, que tem mais fibras e uma absorção mais lenta. Outra opção é combinar o pão com proteínas e gorduras saudáveis, como ovos ou abacate, para retardar a absorção dos carboidratos.\n> \n> **Café:**\n> \n> *   **Efeito na Glicemia:** O café puro, sem açúcar, geralmente tem pouco efeito direto na glicemia. No entanto, a cafeína pode afetar a sensibilidade à insulina em algumas pessoas, o que pode levar a um aumento nos níveis de açúcar no sangue.\n> *   **Dicas:** Se você notar que o café afeta sua glicemia, experimente monitorar seus níveis após o consumo ou converse com seu médico sobre isso. Evite adicionar açúcar ou adoçantes calóricos ao café.\n> \n> **Considerações:**\n> \n> *   Com uma glicemia atual de 110 mg/dL, você está dentro da faixa normal. No entanto, é importante monitorar como sua glicemia responde após essa refeição.\n> *   Lembre-se que estas são apenas estimativas gerais. A quantidade exata de carboidratos e o impacto na sua glicemia podem variar dependendo do tamanho da porção e da sua sensibilidade individual à insulina.\n> \n> **Sugestões para um café da manhã mais equilibrado:**\n> \n> 1.  **Substituições:** Trocar o pão francês por pão integral ou adicionar uma fonte de proteína, como ovos mexidos ou queijo, pode ajudar a equilibrar a refeição.\n> 2.  **Fibras:** Adicionar frutas como morangos ou mirtilos pode aumentar a quantidade de fibras e nutrientes na sua refeição.\n> 3.  **Gorduras Saudáveis:** Incluir abacate ou algumas nozes pode ajudar a retardar a absorção dos carboidratos e manter você saciado por mais tempo.\n> \n> É sempre importante lembrar que cada pessoa com DM1 é única, e o que funciona para um pode não funcionar para outro. Consultar um nutricionista ou médico é fundamental para criar um plano alimentar individualizado que atenda às suas necessidades e objetivos!\n> \n"
          },
          "metadata": {}
        },
        {
          "output_type": "stream",
          "name": "stdout",
          "text": [
            "--------------------------------------------------\n",
            "\n",
            "--- Resultado do Agente de Suporte à Dosagem (EDUCACIONAL) ---\n"
          ]
        },
        {
          "output_type": "display_data",
          "data": {
            "text/plain": [
              "<IPython.core.display.Markdown object>"
            ],
            "text/markdown": "> **Suporte Informativo sobre Dosagem:**\n> Olá! É importante entender como diferentes fatores podem influenciar a sua necessidade de insulina rápida, mas **lembre-se: eu não posso calcular ou recomendar doses.** O objetivo aqui é fornecer informações educativas para que você possa ter discussões mais informadas com sua equipe de saúde.\n> \n> Vamos discutir como a glicemia atual, os carboidratos na refeição, a insulina ativa e a atividade física podem influenciar a dose de insulina:\n> \n> 1.  **Glicemia Atual:**\n>     *   **Relevância:** A glicemia atual é um ponto de partida crucial. Se a sua glicemia está dentro da faixa desejada, pode ser que você precise de menos insulina para cobrir os carboidratos da refeição. Se estiver mais alta, pode ser necessário um pouco mais para corrigir. No seu exemplo, 110 mg/dL está dentro da faixa normal, então não seria necessária uma correção para hiperglicemia.\n> 2.  **Carboidratos Planejados:**\n>     *   **Relevância:** A quantidade de carboidratos que você planeja consumir é um dos principais determinantes da dose de insulina. Geralmente, existe uma proporção entre a quantidade de carboidratos e a dose de insulina necessária (por exemplo, 1 unidade de insulina para cada 10 gramas de carboidratos). 300g de carboidratos é uma quantidade muito alta, e demandaria uma dose alta de insulina também.\n> \n> 3.  **Insulina Ativa (ou Insulina \"a bordo\"):**\n>     *   **Relevância:** A insulina ativa é a quantidade de insulina da sua última dose que ainda está agindo no seu corpo. Se você aplicou 10 unidades de insulina rápida recentemente, parte dessa insulina ainda pode estar ativa e ajudando a baixar a glicemia. Levar em conta a insulina ativa pode ajudar a evitar hipoglicemia (glicemia baixa) ao aplicar uma nova dose.\n> \n> É crucial lembrar que esses fatores interagem de maneira complexa e podem variar de pessoa para pessoa. **Sempre siga as orientações da sua equipe de saúde** para ajustar a dose de insulina de forma segura e eficaz.\n"
          },
          "metadata": {}
        },
        {
          "output_type": "stream",
          "name": "stdout",
          "text": [
            "--------------------------------------------------\n",
            "\n",
            "✅ Processamento com Agentes Concluído.\n",
            "--------------------------------------------------\n"
          ]
        }
      ]
    }
  ]
}